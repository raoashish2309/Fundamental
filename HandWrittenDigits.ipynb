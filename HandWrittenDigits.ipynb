{
  "nbformat": 4,
  "nbformat_minor": 0,
  "metadata": {
    "colab": {
      "provenance": [],
      "authorship_tag": "ABX9TyOIsQiG0dwCqmIZkX338byr",
      "include_colab_link": true
    },
    "kernelspec": {
      "name": "python3",
      "display_name": "Python 3"
    },
    "language_info": {
      "name": "python"
    }
  },
  "cells": [
    {
      "cell_type": "markdown",
      "metadata": {
        "id": "view-in-github",
        "colab_type": "text"
      },
      "source": [
        "<a href=\"https://colab.research.google.com/github/raoashish2309/Fundamental/blob/main/HandWrittenDigits.ipynb\" target=\"_parent\"><img src=\"https://colab.research.google.com/assets/colab-badge.svg\" alt=\"Open In Colab\"/></a>"
      ]
    },
    {
      "cell_type": "markdown",
      "source": [
        "# Hand Written Digits Identification Project"
      ],
      "metadata": {
        "id": "_lJLt1Y-QtY4"
      }
    },
    {
      "cell_type": "markdown",
      "source": [
        "## Objective\n",
        "To develop a model which can identify the hand written digits."
      ],
      "metadata": {
        "id": "pIbKBXsRRXY_"
      }
    },
    {
      "cell_type": "markdown",
      "source": [
        "## Data Source\n",
        "The dataset is available on different platforms and also a part of dataset module of scikit package.Originally,it is sourced from:\n",
        "E. Alpaydin, C. Kaynak\n",
        "Department of Computer Engineering\n",
        "Bogazici University, 80815 Istanbul Turkey\n",
        "alpaydin '@' boun.edu.tr"
      ],
      "metadata": {
        "id": "7Zhdc-H8SC90"
      }
    },
    {
      "cell_type": "markdown",
      "source": [
        "## Importing the libraries"
      ],
      "metadata": {
        "id": "4O3C7hS2AB7L"
      }
    },
    {
      "cell_type": "code",
      "source": [
        "import pandas as pd\n",
        "import numpy as np\n",
        "import matplotlib.pyplot as plt"
      ],
      "metadata": {
        "id": "E7iLKg2AAOY-"
      },
      "execution_count": 1,
      "outputs": []
    },
    {
      "cell_type": "markdown",
      "source": [
        "## Import data"
      ],
      "metadata": {
        "id": "sEnGNEN0AUzp"
      }
    },
    {
      "cell_type": "code",
      "source": [
        "from sklearn.datasets import load_digits\n",
        "dataset = load_digits()"
      ],
      "metadata": {
        "id": "HRG6cghTAZWA"
      },
      "execution_count": 2,
      "outputs": []
    },
    {
      "cell_type": "markdown",
      "source": [
        "## Describe Data "
      ],
      "metadata": {
        "id": "g7etjZBcWf1C"
      }
    },
    {
      "cell_type": "markdown",
      "source": [
        "32x32 bitmaps are divided into nonoverlapping blocks of 4x4 and the number of pixels are counted in each block. This generates an input matrix of 8x8 where each element is an integer in the range 0..16. Digits dataset contain 1797 such matrices."
      ],
      "metadata": {
        "id": "AQoXZEKEWqP4"
      }
    },
    {
      "cell_type": "code",
      "source": [
        "dataset.images.shape"
      ],
      "metadata": {
        "colab": {
          "base_uri": "https://localhost:8080/"
        },
        "id": "oVug5hxAbsjc",
        "outputId": "93e016c4-d59d-4906-faf1-47c0fcee451b"
      },
      "execution_count": 3,
      "outputs": [
        {
          "output_type": "execute_result",
          "data": {
            "text/plain": [
              "(1797, 8, 8)"
            ]
          },
          "metadata": {},
          "execution_count": 3
        }
      ]
    },
    {
      "cell_type": "code",
      "source": [
        "dataset.images[0]"
      ],
      "metadata": {
        "colab": {
          "base_uri": "https://localhost:8080/"
        },
        "id": "S8FEt3sjb6NK",
        "outputId": "4b0ad317-350d-4d79-c5b7-62238903fbfb"
      },
      "execution_count": 4,
      "outputs": [
        {
          "output_type": "execute_result",
          "data": {
            "text/plain": [
              "array([[ 0.,  0.,  5., 13.,  9.,  1.,  0.,  0.],\n",
              "       [ 0.,  0., 13., 15., 10., 15.,  5.,  0.],\n",
              "       [ 0.,  3., 15.,  2.,  0., 11.,  8.,  0.],\n",
              "       [ 0.,  4., 12.,  0.,  0.,  8.,  8.,  0.],\n",
              "       [ 0.,  5.,  8.,  0.,  0.,  9.,  8.,  0.],\n",
              "       [ 0.,  4., 11.,  0.,  1., 12.,  7.,  0.],\n",
              "       [ 0.,  2., 14.,  5., 10., 12.,  0.,  0.],\n",
              "       [ 0.,  0.,  6., 13., 10.,  0.,  0.,  0.]])"
            ]
          },
          "metadata": {},
          "execution_count": 4
        }
      ]
    },
    {
      "cell_type": "code",
      "source": [
        "dataset.images[0].shape"
      ],
      "metadata": {
        "colab": {
          "base_uri": "https://localhost:8080/"
        },
        "id": "p-Pp6iotcJ5X",
        "outputId": "09f8bcdb-2e62-49c7-858e-b432a1359e19"
      },
      "execution_count": 5,
      "outputs": [
        {
          "output_type": "execute_result",
          "data": {
            "text/plain": [
              "(8, 8)"
            ]
          },
          "metadata": {},
          "execution_count": 5
        }
      ]
    },
    {
      "cell_type": "code",
      "source": [
        "len(dataset.images)"
      ],
      "metadata": {
        "colab": {
          "base_uri": "https://localhost:8080/"
        },
        "id": "bQlHHll5cOVL",
        "outputId": "be9c6afe-3f01-485d-a8c5-b1d38e1fac65"
      },
      "execution_count": 6,
      "outputs": [
        {
          "output_type": "execute_result",
          "data": {
            "text/plain": [
              "1797"
            ]
          },
          "metadata": {},
          "execution_count": 6
        }
      ]
    },
    {
      "cell_type": "markdown",
      "source": [
        "## Data Visualization"
      ],
      "metadata": {
        "id": "KvbLl49EZsFe"
      }
    },
    {
      "cell_type": "code",
      "source": [
        "_,axes = plt.subplots(nrows=1,ncols=4,figsize=(10,3))\n",
        "for ax , image , label in zip(axes , dataset.images, dataset.target):\n",
        "  ax.set_axis_off()\n",
        "  ax.imshow(image,cmap=plt.cm.gray_r,interpolation='nearest')\n",
        "  ax.set_title('Training: %i'%label)"
      ],
      "metadata": {
        "colab": {
          "base_uri": "https://localhost:8080/",
          "height": 227
        },
        "id": "gr3Ofo2uZs__",
        "outputId": "89b2fe4a-8808-40ac-d4bb-c7ac59f650f6"
      },
      "execution_count": 7,
      "outputs": [
        {
          "output_type": "display_data",
          "data": {
            "text/plain": [
              "<Figure size 1000x300 with 4 Axes>"
            ],
            "image/png": "[encoded data removed]"
          },
          "metadata": {}
        }
      ]
    },
    {
      "cell_type": "markdown",
      "source": [
        "## Data Preprocessing"
      ],
      "metadata": {
        "id": "gSXC7w-IAoFV"
      }
    },
    {
      "cell_type": "code",
      "source": [
        "data = dataset.images.reshape((len(dataset.images),-1))"
      ],
      "metadata": {
        "id": "QmxIgdTScl3h"
      },
      "execution_count": 8,
      "outputs": []
    },
    {
      "cell_type": "code",
      "source": [
        "data[0]"
      ],
      "metadata": {
        "colab": {
          "base_uri": "https://localhost:8080/"
        },
        "id": "_PCuxe9bcyn2",
        "outputId": "f77e048f-34d6-4571-b772-e33558a21e60"
      },
      "execution_count": 9,
      "outputs": [
        {
          "output_type": "execute_result",
          "data": {
            "text/plain": [
              "array([ 0.,  0.,  5., 13.,  9.,  1.,  0.,  0.,  0.,  0., 13., 15., 10.,\n",
              "       15.,  5.,  0.,  0.,  3., 15.,  2.,  0., 11.,  8.,  0.,  0.,  4.,\n",
              "       12.,  0.,  0.,  8.,  8.,  0.,  0.,  5.,  8.,  0.,  0.,  9.,  8.,\n",
              "        0.,  0.,  4., 11.,  0.,  1., 12.,  7.,  0.,  0.,  2., 14.,  5.,\n",
              "       10., 12.,  0.,  0.,  0.,  0.,  6., 13., 10.,  0.,  0.,  0.])"
            ]
          },
          "metadata": {},
          "execution_count": 9
        }
      ]
    },
    {
      "cell_type": "code",
      "source": [
        "data[0].shape"
      ],
      "metadata": {
        "colab": {
          "base_uri": "https://localhost:8080/"
        },
        "id": "m2sROprYdPdQ",
        "outputId": "dc19c46a-1479-4723-ba9f-113c88641492"
      },
      "execution_count": 10,
      "outputs": [
        {
          "output_type": "execute_result",
          "data": {
            "text/plain": [
              "(64,)"
            ]
          },
          "metadata": {},
          "execution_count": 10
        }
      ]
    },
    {
      "cell_type": "code",
      "source": [
        "data.shape"
      ],
      "metadata": {
        "colab": {
          "base_uri": "https://localhost:8080/"
        },
        "id": "_V_gAEgJdTFc",
        "outputId": "2989d5bf-12c0-48b2-9862-b3305945d2ff"
      },
      "execution_count": 11,
      "outputs": [
        {
          "output_type": "execute_result",
          "data": {
            "text/plain": [
              "(1797, 64)"
            ]
          },
          "metadata": {},
          "execution_count": 11
        }
      ]
    },
    {
      "cell_type": "code",
      "source": [
        "print('Data min. : '+str(data.min()))\n",
        "print('Data max. : '+str(data.max()))"
      ],
      "metadata": {
        "id": "fwe6qwJUBkgB",
        "outputId": "71b83182-4d60-4570-f6a5-d57953494e01",
        "colab": {
          "base_uri": "https://localhost:8080/"
        }
      },
      "execution_count": 12,
      "outputs": [
        {
          "output_type": "stream",
          "name": "stdout",
          "text": [
            "Data min. : 0.0\n",
            "Data max. : 16.0\n"
          ]
        }
      ]
    },
    {
      "cell_type": "code",
      "source": [
        "data /= 16"
      ],
      "metadata": {
        "id": "TUZ0yuERCC-u"
      },
      "execution_count": 13,
      "outputs": []
    },
    {
      "cell_type": "code",
      "source": [
        "print('Data min. : '+str(data.min()))\n",
        "print('Data max. : '+str(data.max()))"
      ],
      "metadata": {
        "colab": {
          "base_uri": "https://localhost:8080/"
        },
        "id": "wRZal4kMeNv4",
        "outputId": "44d27070-6e31-49ef-fd02-e2fa06e307de"
      },
      "execution_count": 14,
      "outputs": [
        {
          "output_type": "stream",
          "name": "stdout",
          "text": [
            "Data min. : 0.0\n",
            "Data max. : 1.0\n"
          ]
        }
      ]
    },
    {
      "cell_type": "code",
      "source": [
        "data[0]"
      ],
      "metadata": {
        "colab": {
          "base_uri": "https://localhost:8080/"
        },
        "id": "AqvWKbWWeYvu",
        "outputId": "10d73b3c-0fc2-49f1-da6a-7214f3864a5b"
      },
      "execution_count": 15,
      "outputs": [
        {
          "output_type": "execute_result",
          "data": {
            "text/plain": [
              "array([0.    , 0.    , 0.3125, 0.8125, 0.5625, 0.0625, 0.    , 0.    ,\n",
              "       0.    , 0.    , 0.8125, 0.9375, 0.625 , 0.9375, 0.3125, 0.    ,\n",
              "       0.    , 0.1875, 0.9375, 0.125 , 0.    , 0.6875, 0.5   , 0.    ,\n",
              "       0.    , 0.25  , 0.75  , 0.    , 0.    , 0.5   , 0.5   , 0.    ,\n",
              "       0.    , 0.3125, 0.5   , 0.    , 0.    , 0.5625, 0.5   , 0.    ,\n",
              "       0.    , 0.25  , 0.6875, 0.    , 0.0625, 0.75  , 0.4375, 0.    ,\n",
              "       0.    , 0.125 , 0.875 , 0.3125, 0.625 , 0.75  , 0.    , 0.    ,\n",
              "       0.    , 0.    , 0.375 , 0.8125, 0.625 , 0.    , 0.    , 0.    ])"
            ]
          },
          "metadata": {},
          "execution_count": 15
        }
      ]
    },
    {
      "cell_type": "markdown",
      "source": [
        "## Define Target Variable (y) and Feature Variables (X)"
      ],
      "metadata": {
        "id": "fzSc6BbtCtYP"
      }
    },
    {
      "cell_type": "code",
      "source": [
        "from sklearn.model_selection import train_test_split\n",
        "X_train,X_test,y_train,y_test = train_test_split(data,dataset.target,test_size=0.3)"
      ],
      "metadata": {
        "id": "uHuBjPOgC5t9"
      },
      "execution_count": 16,
      "outputs": []
    },
    {
      "cell_type": "markdown",
      "source": [
        "## Train Test Split"
      ],
      "metadata": {
        "id": "dch9BFIGaKy_"
      }
    },
    {
      "cell_type": "code",
      "source": [
        "# check shape of train and test sample\n",
        "X_train.shape, X_test.shape, y_train.shape, y_test.shape"
      ],
      "metadata": {
        "colab": {
          "base_uri": "https://localhost:8080/"
        },
        "id": "dSdX2Nln-eMC",
        "outputId": "83cfee7d-cbdb-4a0d-906a-6236117e723f"
      },
      "execution_count": 17,
      "outputs": [
        {
          "output_type": "execute_result",
          "data": {
            "text/plain": [
              "((1257, 64), (540, 64), (1257,), (540,))"
            ]
          },
          "metadata": {},
          "execution_count": 17
        }
      ]
    },
    {
      "cell_type": "markdown",
      "source": [
        "## Preparing Random Forest Classification Model"
      ],
      "metadata": {
        "id": "Mdd4ZRCZChMu"
      }
    },
    {
      "cell_type": "code",
      "source": [
        "from sklearn.ensemble import RandomForestClassifier\n",
        "model = RandomForestClassifier()"
      ],
      "metadata": {
        "id": "JMw245hDCpWL"
      },
      "execution_count": 18,
      "outputs": []
    },
    {
      "cell_type": "code",
      "source": [
        "model.fit(X_train,y_train)"
      ],
      "metadata": {
        "colab": {
          "base_uri": "https://localhost:8080/",
          "height": 75
        },
        "id": "KOqJPGzdCwLf",
        "outputId": "2796ab6d-be7d-4762-86f6-7fe2eb8c7a4e"
      },
      "execution_count": 19,
      "outputs": [
        {
          "output_type": "execute_result",
          "data": {
            "text/plain": [
              "RandomForestClassifier()"
            ],
            "text/html": [
              "<style>#sk-container-id-1 {color: black;background-color: white;}#sk-container-id-1 pre{padding: 0;}#sk-container-id-1 div.sk-toggleable {background-color: white;}#sk-container-id-1 label.sk-toggleable__label {cursor: pointer;display: block;width: 100%;margin-bottom: 0;padding: 0.3em;box-sizing: border-box;text-align: center;}#sk-container-id-1 label.sk-toggleable__label-arrow:before {content: \"▸\";float: left;margin-right: 0.25em;color: #696969;}#sk-container-id-1 label.sk-toggleable__label-arrow:hover:before {color: black;}#sk-container-id-1 div.sk-estimator:hover label.sk-toggleable__label-arrow:before {color: black;}#sk-container-id-1 div.sk-toggleable__content {max-height: 0;max-width: 0;overflow: hidden;text-align: left;background-color: #f0f8ff;}#sk-container-id-1 div.sk-toggleable__content pre {margin: 0.2em;color: black;border-radius: 0.25em;background-color: #f0f8ff;}#sk-container-id-1 input.sk-toggleable__control:checked~div.sk-toggleable__content {max-height: 200px;max-width: 100%;overflow: auto;}#sk-container-id-1 input.sk-toggleable__control:checked~label.sk-toggleable__label-arrow:before {content: \"▾\";}#sk-container-id-1 div.sk-estimator input.sk-toggleable__control:checked~label.sk-toggleable__label {background-color: #d4ebff;}#sk-container-id-1 div.sk-label input.sk-toggleable__control:checked~label.sk-toggleable__label {background-color: #d4ebff;}#sk-container-id-1 input.sk-hidden--visually {border: 0;clip: rect(1px 1px 1px 1px);clip: rect(1px, 1px, 1px, 1px);height: 1px;margin: -1px;overflow: hidden;padding: 0;position: absolute;width: 1px;}#sk-container-id-1 div.sk-estimator {font-family: monospace;background-color: #f0f8ff;border: 1px dotted black;border-radius: 0.25em;box-sizing: border-box;margin-bottom: 0.5em;}#sk-container-id-1 div.sk-estimator:hover {background-color: #d4ebff;}#sk-container-id-1 div.sk-parallel-item::after {content: \"\";width: 100%;border-bottom: 1px solid gray;flex-grow: 1;}#sk-container-id-1 div.sk-label:hover label.sk-toggleable__label {background-color: #d4ebff;}#sk-container-id-1 div.sk-serial::before {content: \"\";position: absolute;border-left: 1px solid gray;box-sizing: border-box;top: 0;bottom: 0;left: 50%;z-index: 0;}#sk-container-id-1 div.sk-serial {display: flex;flex-direction: column;align-items: center;background-color: white;padding-right: 0.2em;padding-left: 0.2em;position: relative;}#sk-container-id-1 div.sk-item {position: relative;z-index: 1;}#sk-container-id-1 div.sk-parallel {display: flex;align-items: stretch;justify-content: center;background-color: white;position: relative;}#sk-container-id-1 div.sk-item::before, #sk-container-id-1 div.sk-parallel-item::before {content: \"\";position: absolute;border-left: 1px solid gray;box-sizing: border-box;top: 0;bottom: 0;left: 50%;z-index: -1;}#sk-container-id-1 div.sk-parallel-item {display: flex;flex-direction: column;z-index: 1;position: relative;background-color: white;}#sk-container-id-1 div.sk-parallel-item:first-child::after {align-self: flex-end;width: 50%;}#sk-container-id-1 div.sk-parallel-item:last-child::after {align-self: flex-start;width: 50%;}#sk-container-id-1 div.sk-parallel-item:only-child::after {width: 0;}#sk-container-id-1 div.sk-dashed-wrapped {border: 1px dashed gray;margin: 0 0.4em 0.5em 0.4em;box-sizing: border-box;padding-bottom: 0.4em;background-color: white;}#sk-container-id-1 div.sk-label label {font-family: monospace;font-weight: bold;display: inline-block;line-height: 1.2em;}#sk-container-id-1 div.sk-label-container {text-align: center;}#sk-container-id-1 div.sk-container {/* jupyter's `normalize.less` sets `[hidden] { display: none; }` but bootstrap.min.css set `[hidden] { display: none !important; }` so we also need the `!important` here to be able to override the default hidden behavior on the sphinx rendered scikit-learn.org. See: https://github.com/scikit-learn/scikit-learn/issues/21755 */display: inline-block !important;position: relative;}#sk-container-id-1 div.sk-text-repr-fallback {display: none;}</style><div id=\"sk-container-id-1\" class=\"sk-top-container\"><div class=\"sk-text-repr-fallback\"><pre>RandomForestClassifier()</pre><b>In a Jupyter environment, please rerun this cell to show the HTML representation or trust the notebook. <br />On GitHub, the HTML representation is unable to render, please try loading this page with nbviewer.org.</b></div><div class=\"sk-container\" hidden><div class=\"sk-item\"><div class=\"sk-estimator sk-toggleable\"><input class=\"sk-toggleable__control sk-hidden--visually\" id=\"sk-estimator-id-1\" type=\"checkbox\" checked><label for=\"sk-estimator-id-1\" class=\"sk-toggleable__label sk-toggleable__label-arrow\">RandomForestClassifier</label><div class=\"sk-toggleable__content\"><pre>RandomForestClassifier()</pre></div></div></div></div></div>"
            ]
          },
          "metadata": {},
          "execution_count": 19
        }
      ]
    },
    {
      "cell_type": "markdown",
      "source": [
        "## Prediction"
      ],
      "metadata": {
        "id": "jjT9yY3mC3en"
      }
    },
    {
      "cell_type": "code",
      "source": [
        "y_pred = model.predict(X_test)\n",
        "y_pred"
      ],
      "metadata": {
        "colab": {
          "base_uri": "https://localhost:8080/"
        },
        "id": "cL63-QljC0Ld",
        "outputId": "7c9a6cb3-1843-4bf9-d4eb-44c97beb4fe7"
      },
      "execution_count": 20,
      "outputs": [
        {
          "output_type": "execute_result",
          "data": {
            "text/plain": [
              "array([2, 6, 7, 3, 2, 5, 8, 8, 5, 8, 0, 2, 1, 8, 5, 8, 4, 2, 3, 7, 9, 4,\n",
              "       5, 5, 8, 3, 3, 0, 8, 0, 7, 1, 7, 5, 5, 2, 1, 5, 4, 3, 5, 3, 2, 6,\n",
              "       0, 2, 2, 5, 4, 0, 6, 0, 9, 3, 2, 8, 9, 0, 7, 2, 6, 4, 3, 0, 1, 0,\n",
              "       4, 3, 7, 8, 0, 8, 2, 2, 4, 5, 0, 3, 3, 0, 6, 9, 8, 5, 7, 7, 4, 5,\n",
              "       2, 5, 1, 4, 3, 7, 0, 4, 5, 9, 1, 7, 7, 3, 9, 8, 6, 2, 7, 7, 0, 0,\n",
              "       2, 1, 0, 3, 3, 7, 0, 6, 3, 0, 1, 8, 7, 1, 4, 3, 1, 2, 1, 0, 2, 0,\n",
              "       6, 0, 0, 6, 3, 8, 4, 7, 8, 6, 2, 7, 1, 0, 3, 3, 0, 4, 3, 1, 4, 7,\n",
              "       9, 2, 7, 3, 8, 5, 4, 9, 4, 3, 1, 6, 3, 9, 4, 4, 3, 3, 4, 5, 1, 7,\n",
              "       6, 2, 0, 1, 2, 3, 6, 2, 8, 4, 3, 9, 6, 0, 5, 6, 7, 0, 9, 5, 6, 0,\n",
              "       5, 2, 8, 6, 3, 4, 6, 6, 1, 9, 1, 6, 1, 3, 6, 2, 4, 0, 9, 1, 1, 4,\n",
              "       7, 6, 7, 1, 1, 2, 0, 8, 5, 1, 0, 5, 9, 8, 4, 5, 5, 4, 8, 4, 4, 5,\n",
              "       4, 7, 3, 1, 0, 0, 8, 0, 8, 1, 9, 8, 5, 0, 1, 4, 1, 8, 1, 0, 3, 9,\n",
              "       2, 5, 6, 9, 1, 5, 2, 3, 6, 7, 4, 4, 8, 2, 7, 7, 5, 8, 6, 1, 2, 9,\n",
              "       0, 3, 9, 4, 0, 3, 6, 9, 8, 4, 7, 4, 9, 3, 5, 0, 0, 9, 2, 2, 1, 2,\n",
              "       4, 5, 0, 6, 5, 8, 2, 5, 3, 4, 0, 4, 3, 6, 6, 2, 1, 6, 4, 4, 8, 8,\n",
              "       1, 5, 5, 5, 5, 6, 3, 5, 7, 6, 4, 0, 9, 2, 1, 6, 0, 8, 7, 1, 6, 2,\n",
              "       7, 9, 7, 9, 0, 0, 8, 8, 2, 6, 4, 2, 1, 2, 1, 5, 7, 3, 6, 0, 6, 0,\n",
              "       8, 0, 1, 7, 2, 6, 1, 1, 8, 1, 8, 5, 5, 3, 0, 8, 3, 3, 6, 0, 6, 9,\n",
              "       8, 3, 4, 0, 1, 8, 1, 8, 7, 4, 8, 6, 4, 3, 1, 5, 6, 9, 1, 5, 8, 9,\n",
              "       3, 8, 8, 8, 1, 5, 3, 6, 3, 4, 3, 0, 4, 5, 6, 2, 5, 9, 2, 1, 2, 3,\n",
              "       2, 3, 4, 4, 1, 3, 7, 6, 6, 9, 8, 7, 2, 5, 9, 2, 8, 7, 0, 9, 9, 4,\n",
              "       5, 3, 6, 1, 5, 3, 9, 3, 1, 0, 1, 5, 7, 7, 1, 1, 3, 5, 2, 6, 6, 0,\n",
              "       0, 0, 8, 9, 7, 5, 5, 4, 7, 1, 3, 4, 4, 8, 8, 5, 4, 9, 9, 2, 2, 2,\n",
              "       5, 9, 7, 1, 0, 8, 7, 5, 0, 7, 8, 2, 2, 0, 8, 6, 0, 5, 5, 0, 6, 9,\n",
              "       1, 3, 6, 3, 4, 1, 2, 4, 8, 6, 0, 1])"
            ]
          },
          "metadata": {},
          "execution_count": 20
        }
      ]
    },
    {
      "cell_type": "markdown",
      "source": [
        "## Model Evaluation"
      ],
      "metadata": {
        "id": "vLOoC87uDx9P"
      }
    },
    {
      "cell_type": "code",
      "source": [
        "from sklearn.metrics import confusion_matrix,accuracy_score,classification_report\n",
        "cm = confusion_matrix(y_pred,y_test)\n",
        "print(cm)"
      ],
      "metadata": {
        "id": "bEuq8AYBDzIB",
        "colab": {
          "base_uri": "https://localhost:8080/"
        },
        "outputId": "166d0d55-d5d0-4d12-fecd-9084469f4ce7"
      },
      "execution_count": 21,
      "outputs": [
        {
          "output_type": "stream",
          "name": "stdout",
          "text": [
            "[[63  0  1  0  0  0  0  0  0  0]\n",
            " [ 0 55  0  0  0  0  0  0  4  0]\n",
            " [ 0  0 53  0  0  0  0  0  0  0]\n",
            " [ 0  0  0 59  0  0  0  0  0  0]\n",
            " [ 1  0  0  0 52  0  0  1  1  0]\n",
            " [ 0  0  0  1  0 56  0  0  0  1]\n",
            " [ 0  0  0  0  0  0 53  0  0  0]\n",
            " [ 0  0  0  0  0  0  0 44  1  0]\n",
            " [ 0  0  1  1  0  0  0  0 52  1]\n",
            " [ 0  0  0  2  0  0  0  0  0 37]]\n"
          ]
        }
      ]
    },
    {
      "cell_type": "code",
      "source": [
        "accuracy_score(y_pred,y_test)"
      ],
      "metadata": {
        "colab": {
          "base_uri": "https://localhost:8080/"
        },
        "id": "hV4sEmNSV1Ie",
        "outputId": "2e9f2897-0411-4c8f-c304-8514b8e3b579"
      },
      "execution_count": 22,
      "outputs": [
        {
          "output_type": "execute_result",
          "data": {
            "text/plain": [
              "0.9703703703703703"
            ]
          },
          "metadata": {},
          "execution_count": 22
        }
      ]
    },
    {
      "cell_type": "code",
      "source": [
        "print(classification_report(y_test,y_pred))"
      ],
      "metadata": {
        "colab": {
          "base_uri": "https://localhost:8080/"
        },
        "id": "OvzJPmTnWXVs",
        "outputId": "73fad712-c2cf-463c-937c-da17e07dc902"
      },
      "execution_count": 23,
      "outputs": [
        {
          "output_type": "stream",
          "name": "stdout",
          "text": [
            "              precision    recall  f1-score   support\n",
            "\n",
            "           0       0.98      0.98      0.98        64\n",
            "           1       0.93      1.00      0.96        55\n",
            "           2       1.00      0.96      0.98        55\n",
            "           3       1.00      0.94      0.97        63\n",
            "           4       0.95      1.00      0.97        52\n",
            "           5       0.97      1.00      0.98        56\n",
            "           6       1.00      1.00      1.00        53\n",
            "           7       0.98      0.98      0.98        45\n",
            "           8       0.95      0.90      0.92        58\n",
            "           9       0.95      0.95      0.95        39\n",
            "\n",
            "    accuracy                           0.97       540\n",
            "   macro avg       0.97      0.97      0.97       540\n",
            "weighted avg       0.97      0.97      0.97       540\n",
            "\n"
          ]
        }
      ]
    },
    {
      "cell_type": "markdown",
      "source": [
        "## Explaination"
      ],
      "metadata": {
        "id": "xOsdW-3vawYs"
      }
    },
    {
      "cell_type": "markdown",
      "source": [
        "1797 Matrices are flattened into a tuple.64 attributes of tuples serve as features for the model to be developed. A random forest classifier model is developed , trained. Model is evaluated using various metrics by comapring predictions with actual test results."
      ],
      "metadata": {
        "id": "QHKcMCHza00H"
      }
    }
  ]
}